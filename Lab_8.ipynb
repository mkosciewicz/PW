{
  "nbformat": 4,
  "nbformat_minor": 0,
  "metadata": {
    "colab": {
      "name": "Lab_8.ipynb",
      "provenance": [],
      "collapsed_sections": [],
      "authorship_tag": "ABX9TyPgsk5iHUY7DLfvW/G66z0N",
      "include_colab_link": true
    },
    "kernelspec": {
      "name": "python3",
      "display_name": "Python 3"
    },
    "language_info": {
      "name": "python"
    }
  },
  "cells": [
    {
      "cell_type": "markdown",
      "metadata": {
        "id": "view-in-github",
        "colab_type": "text"
      },
      "source": [
        "<a href=\"https://colab.research.google.com/github/mkosciewicz/PW/blob/main/Lab_8.ipynb\" target=\"_parent\"><img src=\"https://colab.research.google.com/assets/colab-badge.svg\" alt=\"Open In Colab\"/></a>"
      ]
    },
    {
      "cell_type": "code",
      "execution_count": 23,
      "metadata": {
        "id": "FT7mKIegfphS"
      },
      "outputs": [],
      "source": [
        "\n",
        "class YoloBoundingBox():\n",
        "  \n",
        "  def __init__(self, E, X, Y, W, H):\n",
        "        self.__E = E\n",
        "        self.__X = X\n",
        "        self.__Y = Y\n",
        "        self.__W = W\n",
        "        self.__H = H\n",
        "\n",
        "  def get_E(self):\n",
        "        return self.__E\n",
        "\n",
        "  def get_X(self):\n",
        "        return self.__X\n",
        "\n",
        "  def get_Y(self):\n",
        "        return self.__Y\n",
        "\n",
        "  def get_W(self):\n",
        "        return self.__W\n",
        "\n",
        "  def get_H(self):\n",
        "        return self.__H\n",
        "\n",
        "  def __repr__(self):\n",
        "       cls_name = self.__class__.__name__\n",
        "       #cls_Y = self.__class__.__Y__\n",
        "       attrs = {k.split(\"__\")[-1]: v for k, v in self.__dict__.items()}\n",
        "       return f\"({cls_name}): {attrs}\"\n",
        "\n",
        "\n",
        "\n",
        "\n",
        "class YoloBoundingBoxOnlyMid(YoloBoundingBox):\n",
        "  def __init__(self, X, Y):\n",
        "        super().__init__(X, Y)\n",
        "\n",
        "  def __hash__ (self):\n",
        "        print(\"Inside hash!\")\n",
        "        return (self.__X, self.__Y).__hash__()\n",
        "\n",
        "  def __eq__(self, other):\n",
        "       print(\"Inside equals!\")\n",
        "       return self.__class__ == other.__class__ \\\n",
        "               and self.__X == other.get_X() \\\n",
        "               and self.__Y == other.get_Y()\n",
        "\n",
        "\n",
        "class YoloReader():\n",
        "#        def __init__(self, name):\n",
        "#                self.__name = name\n",
        "\n",
        "        def read(self, example_yolo_datatxt):\n",
        "                elems = []\n",
        "                with open(\"example_yolo_data.txt\", \"r\") as f:\n",
        "                  lines = f.readlines()\n",
        "                  for l in lines:\n",
        "                    E, X, Y, W, H = l.split()\n",
        "                    obj = YoloBoundingBox(E, X, Y, W, H)\n",
        "                    elems.append(obj)\n",
        "                return elems\n"
      ]
    },
    {
      "cell_type": "code",
      "source": [
        "def main():\n",
        "        reader = YoloReader()\n",
        "        bbox = reader.read(\"example_yolo_data.txt\")\n",
        "        #students = [stud_1, stud_2, stud_3]\n",
        "        unique_bbox = set(bbox)\n",
        "\n",
        "        for bbx in bbox:\n",
        "                print(bbx)\n",
        "\n",
        "        print(\"Unique:\")\n",
        "        for bbx in unique_bbox:\n",
        "                print(bbx)\n",
        "\n",
        "\n",
        "if __name__ == \"__main__\":\n",
        "    main()"
      ],
      "metadata": {
        "colab": {
          "base_uri": "https://localhost:8080/"
        },
        "id": "cxXy_JunzaYj",
        "outputId": "94eaa105-0d2b-4422-a231-dfaa37617037"
      },
      "execution_count": 24,
      "outputs": [
        {
          "output_type": "stream",
          "name": "stdout",
          "text": [
            "(YoloBoundingBox): {'E': '0', 'X': '0.96563', 'Y': '0.19433', 'W': '0.04376', 'H': '0.10351'}\n",
            "(YoloBoundingBox): {'E': '0', 'X': '0.96562', 'Y': '0.19433', 'W': '0.04375', 'H': '0.10351'}\n",
            "(YoloBoundingBox): {'E': '0', 'X': '0.96562', 'Y': '0.19433', 'W': '0.04377', 'H': '0.10352'}\n",
            "(YoloBoundingBox): {'E': '0', 'X': '0.96562', 'Y': '0.19433', 'W': '0.04375', 'H': '0.10351'}\n",
            "Unique:\n",
            "(YoloBoundingBox): {'E': '0', 'X': '0.96563', 'Y': '0.19433', 'W': '0.04376', 'H': '0.10351'}\n",
            "(YoloBoundingBox): {'E': '0', 'X': '0.96562', 'Y': '0.19433', 'W': '0.04377', 'H': '0.10352'}\n",
            "(YoloBoundingBox): {'E': '0', 'X': '0.96562', 'Y': '0.19433', 'W': '0.04375', 'H': '0.10351'}\n",
            "(YoloBoundingBox): {'E': '0', 'X': '0.96562', 'Y': '0.19433', 'W': '0.04375', 'H': '0.10351'}\n"
          ]
        }
      ]
    }
  ]
}